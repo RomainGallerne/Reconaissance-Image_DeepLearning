{
  "nbformat": 4,
  "nbformat_minor": 0,
  "metadata": {
    "colab": {
      "provenance": []
    },
    "kernelspec": {
      "name": "python3",
      "display_name": "Python 3"
    },
    "language_info": {
      "name": "python"
    },
    "accelerator": "GPU"
  },
  "cells": [
    {
      "cell_type": "markdown",
      "source": [
        "L'objectif de ce notebook est d'illustrer le fonctionnement d'un autoencodeur. Les autoencodeurs sont principalement des algorithmes de réduction de dimensions (on passe d'un grand nombre de dimensions pour, au centre de l'autoencodeur,réduire ce nombre de dimension). Cependant ils ont de nombreuses propriétés :     \n",
        "* Spéficiques aux données : ils ne peuvent compresser (réduire) que le type de données sur lesquels ils ont été appris. \n",
        "* Sortie dégradée : malheureusement la sortie ne sera pas aussi bien que l'entrée. La représentation sera proche mais un peu dégradée. \n",
        "* Non supervisé (ou plutôt *self-supervised*) : pour apprendre il n'est pas nécessaire d'avoir des données labelisées. Ce sont les données elles-mêmes qui sont utilisées. Généralement on parle plutôt de *self-supervised* car on \"génère les labels\" à partir des données d'apprentissage. "
      ],
      "metadata": {
        "id": "5Fij96Xia91d"
      }
    },
    {
      "cell_type": "markdown",
      "source": [
        "## Installation"
      ],
      "metadata": {
        "id": "1sE9G97TJT2w"
      }
    },
    {
      "cell_type": "markdown",
      "source": [
        "Avant de commencer, il est nécessaire de déjà posséder dans son environnement toutes les librairies utiles. Dans la seconde cellule nous importons toutes les librairies qui seront utiles à ce notebook. Il se peut que, lorsque vous lanciez l'éxecution de cette cellule, une soit absente. Dans ce cas il est nécessaire de l'installer. Pour cela dans la cellule suivante utiliser la commande :\n",
        "! pip install nom_librairie\n",
        "Attention : il est fortement conseillé lorsque l'une des librairies doit être installer de relancer le kernel de votre notebook.\n",
        "Remarque : même si toutes les librairies sont importées dès le début, les librairies utiles pour des fonctions présentées au cours de ce notebook sont ré-importées de manière à indiquer d'où elles viennent et ainsi faciliter la réutilisation de la fonction dans un autre projet.\n"
      ],
      "metadata": {
        "id": "L2tHHlXTJZDr"
      }
    },
    {
      "cell_type": "code",
      "source": [
        "# utiliser cette cellule pour installer les librairies manquantes\n",
        "# pour cela il suffit de taper dans cette cellule : !pip install nom_librairie_manquante\n",
        "# d'exécuter la cellule et de relancer la cellule suivante pour voir si tout se passe bien\n",
        "# recommencer tant que toutes les librairies ne sont pas installées ..."
      ],
      "metadata": {
        "id": "owr3dLYZJnbK"
      },
      "execution_count": 11,
      "outputs": []
    },
    {
      "cell_type": "code",
      "execution_count": 12,
      "metadata": {
        "id": "HEAJ4hMda6U5"
      },
      "outputs": [],
      "source": [
        "from keras.layers import Dense,Conv2D,MaxPooling2D,UpSampling2D\n",
        "from keras import Input, Model\n",
        "from keras.datasets import mnist\n",
        "import numpy as np\n",
        "import matplotlib.pyplot as plt\n",
        "import numpy as np\n",
        "from numpy import expand_dims\n",
        "from numpy import zeros\n",
        "from numpy import ones\n",
        "from numpy import vstack\n",
        "from numpy.random import randn\n",
        "from numpy.random import randint\n",
        "from keras.datasets.mnist import load_data\n",
        "from tensorflow.keras.optimizers import Adam\n",
        "from keras.models import Sequential\n",
        "from keras.layers import Dense\n",
        "from keras.layers import Reshape\n",
        "from keras.layers import Flatten\n",
        "from keras.layers import Conv2D\n",
        "from keras.layers import Conv2DTranspose\n",
        "from keras.layers import LeakyReLU\n",
        "from keras.layers import Dropout\n",
        "from matplotlib import pyplot\n",
        "from tensorflow.keras.layers import Dense, BatchNormalization\n",
        "import tensorflow as tf\n",
        "import matplotlib.pyplot as plt\n",
        "from keras.models import load_model"
      ]
    },
    {
      "cell_type": "markdown",
      "source": [
        "Pour pouvoir sauvegarder sur votre répertoire Google Drive, il est nécessaire de fournir une autorisation. Pour cela il suffit d'éxecuter la ligne suivante et de saisir le code donné par Google."
      ],
      "metadata": {
        "id": "JRRjRk8wdMZx"
      }
    },
    {
      "cell_type": "code",
      "source": [
        "# pour monter son drive Google Drive local\n",
        "from google.colab import drive\n",
        "drive.mount('/content/gdrive')"
      ],
      "metadata": {
        "colab": {
          "base_uri": "https://localhost:8080/",
          "height": 0
        },
        "id": "l1zj0wSsdH_7",
        "outputId": "eacf3ce6-2351-4241-d8d3-b871bc027d61"
      },
      "execution_count": 13,
      "outputs": [
        {
          "output_type": "stream",
          "name": "stdout",
          "text": [
            "Drive already mounted at /content/gdrive; to attempt to forcibly remount, call drive.mount(\"/content/gdrive\", force_remount=True).\n"
          ]
        }
      ]
    },
    {
      "cell_type": "markdown",
      "source": [
        "Corriger éventuellement la ligne ci-dessous pour mettre le chemin vers un répertoire spécifique dans votre répertoire Google Drive :"
      ],
      "metadata": {
        "id": "F5A8iAAIdOj8"
      }
    },
    {
      "cell_type": "code",
      "source": [
        "import sys\n",
        "my_local_drive='/content/gdrive/My Drive/Colab Notebooks/ML_FDS'\n",
        "# Ajout du path pour les librairies, fonctions et données\n",
        "sys.path.append(my_local_drive)\n",
        "# Se positionner sur le répertoire associé\n",
        "%cd $my_local_drive\n",
        "\n",
        "%pwd"
      ],
      "metadata": {
        "colab": {
          "base_uri": "https://localhost:8080/",
          "height": 54
        },
        "id": "ZZbtQeV_dSNH",
        "outputId": "0760e508-6dc6-44b6-8fd8-7d8755ea204b"
      },
      "execution_count": 14,
      "outputs": [
        {
          "output_type": "stream",
          "name": "stdout",
          "text": [
            "/content/gdrive/My Drive/Colab Notebooks/ML_FDS\n"
          ]
        },
        {
          "output_type": "execute_result",
          "data": {
            "text/plain": [
              "'/content/gdrive/My Drive/Colab Notebooks/ML_FDS'"
            ],
            "application/vnd.google.colaboratory.intrinsic+json": {
              "type": "string"
            }
          },
          "metadata": {},
          "execution_count": 14
        }
      ]
    },
    {
      "cell_type": "markdown",
      "source": [
        "Chargement des données"
      ],
      "metadata": {
        "id": "KCpQBRQtdV23"
      }
    },
    {
      "cell_type": "code",
      "source": [
        "fashion_mnist = tf.keras.datasets.fashion_mnist\n",
        "\n",
        "(X_train, y_train), (X_test, y_test) = fashion_mnist.load_data()"
      ],
      "metadata": {
        "colab": {
          "base_uri": "https://localhost:8080/",
          "height": 0
        },
        "id": "g5uo4s6SdWdx",
        "outputId": "6d3a6877-ff24-457f-c60b-8b0cfe842c01"
      },
      "execution_count": 15,
      "outputs": [
        {
          "output_type": "stream",
          "name": "stdout",
          "text": [
            "Downloading data from https://storage.googleapis.com/tensorflow/tf-keras-datasets/train-labels-idx1-ubyte.gz\n",
            "32768/29515 [=================================] - 0s 0us/step\n",
            "40960/29515 [=========================================] - 0s 0us/step\n",
            "Downloading data from https://storage.googleapis.com/tensorflow/tf-keras-datasets/train-images-idx3-ubyte.gz\n",
            "26427392/26421880 [==============================] - 0s 0us/step\n",
            "26435584/26421880 [==============================] - 0s 0us/step\n",
            "Downloading data from https://storage.googleapis.com/tensorflow/tf-keras-datasets/t10k-labels-idx1-ubyte.gz\n",
            "16384/5148 [===============================================================================================] - 0s 0us/step\n",
            "Downloading data from https://storage.googleapis.com/tensorflow/tf-keras-datasets/t10k-images-idx3-ubyte.gz\n",
            "4423680/4422102 [==============================] - 0s 0us/step\n",
            "4431872/4422102 [==============================] - 0s 0us/step\n"
          ]
        }
      ]
    },
    {
      "cell_type": "markdown",
      "source": [
        "L'autoencodeur va comporter deux parties :     \n",
        "* L'encodeur : ici nous allons avoir 2 couches de convolutions et un 2 maxPoolings. L'entrée est composée d'une image de 28x28. L'objectif de l'encodeur est via les couches de pooling de \"sous-échantilloner\" (en d'autres termes réduire le plus possible la taille de l'image).\n",
        "* Le décodeur : il est composé de deux couches de convolutions mais aussi de deux couches de Upsampling. Les images en entrée ont été sous échantillonnées par les couches de maxpooling. Il faut à présent les augmenter. C'est l'objectif de Upsampling. Upsampling fonctionne en répetant les lignes et les colonnes de l'entrée. Ainsi une image de 2x2 donnera avec un UpSampling (2) une image de 4x4.\n",
        "* Couche de sortie  : en fait cette couche fait partie du découdeur au même titre que la couche d'entrée fait partie de l'encodeur. Nous la mettons en évidence pour bien comprendre qu'il est indispensable d'avoir une couche de sortie pour propager la descente de gradient. L'objectif est d'avoir une fonction de loss pour comparer les entrées aux sorties et justement pouvoir propager les descentes de gradients"
      ],
      "metadata": {
        "id": "5SRn607adiUZ"
      }
    },
    {
      "cell_type": "code",
      "source": [
        "model = Sequential()\n",
        "# Partie encodeur\n",
        "model.add(Conv2D(30, 3, activation= 'relu', padding='same', input_shape = (28,28,1)))\n",
        "model.add(MaxPooling2D(2, padding= 'same'))\n",
        "model.add(Conv2D(15, 3, activation= 'relu', padding='same'))\n",
        "model.add(MaxPooling2D(2, padding= 'same'))\n",
        "\n",
        "# Partie décodeur \n",
        "model.add(Conv2D(15, 3, activation= 'relu', padding='same'))\n",
        "model.add(UpSampling2D(2))\n",
        "model.add(Conv2D(30, 3, activation= 'relu', padding='same'))\n",
        "model.add(UpSampling2D(2))\n",
        "\n",
        "# Couche de sortie\n",
        "model.add(Conv2D(1,3,activation='sigmoid', padding= 'same')) \n",
        "model.compile(optimizer= 'adam', loss = 'binary_crossentropy')\n",
        "model.summary()"
      ],
      "metadata": {
        "colab": {
          "base_uri": "https://localhost:8080/",
          "height": 0
        },
        "id": "PcR0SJaMdizs",
        "outputId": "6513b005-b9c9-4d19-d72a-d68e0048b424"
      },
      "execution_count": 16,
      "outputs": [
        {
          "output_type": "stream",
          "name": "stdout",
          "text": [
            "Model: \"sequential\"\n",
            "_________________________________________________________________\n",
            " Layer (type)                Output Shape              Param #   \n",
            "=================================================================\n",
            " conv2d (Conv2D)             (None, 28, 28, 30)        300       \n",
            "                                                                 \n",
            " max_pooling2d (MaxPooling2D  (None, 14, 14, 30)       0         \n",
            " )                                                               \n",
            "                                                                 \n",
            " conv2d_1 (Conv2D)           (None, 14, 14, 15)        4065      \n",
            "                                                                 \n",
            " max_pooling2d_1 (MaxPooling  (None, 7, 7, 15)         0         \n",
            " 2D)                                                             \n",
            "                                                                 \n",
            " conv2d_2 (Conv2D)           (None, 7, 7, 15)          2040      \n",
            "                                                                 \n",
            " up_sampling2d (UpSampling2D  (None, 14, 14, 15)       0         \n",
            " )                                                               \n",
            "                                                                 \n",
            " conv2d_3 (Conv2D)           (None, 14, 14, 30)        4080      \n",
            "                                                                 \n",
            " up_sampling2d_1 (UpSampling  (None, 28, 28, 30)       0         \n",
            " 2D)                                                             \n",
            "                                                                 \n",
            " conv2d_4 (Conv2D)           (None, 28, 28, 1)         271       \n",
            "                                                                 \n",
            "=================================================================\n",
            "Total params: 10,756\n",
            "Trainable params: 10,756\n",
            "Non-trainable params: 0\n",
            "_________________________________________________________________\n"
          ]
        }
      ]
    },
    {
      "cell_type": "markdown",
      "source": [
        "Le traitement est assez similaire à celui d'un MLP. Il faut normaliser les données. La différence essentielle est dans l'appel de la fonction *fit*. D'habitude pour apprendre le modèle on utilise :     \n",
        "\n",
        "    model.fit (X_train, y_train, ...  \n",
        "\n",
        "Ici nous n'avons pas de y_train (les données ne sont pas labelisées). En fait ce que nous voulons c'est que les données de sorties soient le plus proche possible des données d'entrées. Pour cela, nous allons utiliser :     \n",
        "\n",
        "    model.fit (X_train, X_train, ...\n",
        "\n",
        "Bien entendu il faut faire la même chose pour le jeu de validation :     \n",
        "\n",
        "    validation_data=(X_test, X_test) à la place de validation_data=(X_test, y_test)\n",
        "\n",
        "Grâce à cela le modèle va pouvoir comparer les données d'entrées et de sorties.     \n",
        "\n",
        "Par rapport au modèle que nous avons défini, la sortie du modèle utilise une sigmoid comme fonction d'activation, le modèle va se comporter comme un classifieur classique (évaluation de la loss, ici binary_cross_entropy : les images sont similaires ou non ? ) et va propager l'erreur dans tout le réseau. "
      ],
      "metadata": {
        "id": "njK6gsBOdrNA"
      }
    },
    {
      "cell_type": "code",
      "source": [
        "X_train = X_train.astype('float32') / 255.\n",
        "X_test = X_test.astype('float32') / 255.\n",
        "X_train = np.reshape(X_train, (len(X_train), 28, 28, 1))\n",
        "X_test = np.reshape(X_test, (len(X_test), 28, 28, 1))\n"
      ],
      "metadata": {
        "id": "dwDu1KUYdrwF"
      },
      "execution_count": 17,
      "outputs": []
    },
    {
      "cell_type": "markdown",
      "source": [
        "**CO2 !!! Remarque IMPORTANTE** Pour gagner du temps, éviter de relancer l'apprentissage et du CO2 un modèle appris est disponible. Nous l'utilisons juste après. Si vous voulez le lancer il faut enlever les commentaires dans la cellule ci-dessous."
      ],
      "metadata": {
        "id": "RCDD6EwGKDov"
      }
    },
    {
      "cell_type": "code",
      "source": [
        "#model.fit(X_train, X_train,\n",
        "#                epochs=15,\n",
        "#                batch_size=128,\n",
        "#                validation_data=(X_test, X_test))"
      ],
      "metadata": {
        "id": "fbvVAxFHKEnl"
      },
      "execution_count": 18,
      "outputs": []
    },
    {
      "cell_type": "code",
      "source": [
        "!wget https://www.lirmm.fr/~poncelet/Ressources/modelCNNFashionMnist.h5"
      ],
      "metadata": {
        "colab": {
          "base_uri": "https://localhost:8080/",
          "height": 0
        },
        "id": "Gqx3RAtGKInT",
        "outputId": "4359d04f-048e-4d45-ebc9-ced02ade35de"
      },
      "execution_count": 19,
      "outputs": [
        {
          "output_type": "stream",
          "name": "stdout",
          "text": [
            "--2022-09-29 20:42:31--  https://www.lirmm.fr/~poncelet/Ressources/modelCNNFashionMnist.h5\n",
            "Resolving www.lirmm.fr (www.lirmm.fr)... 193.49.104.251\n",
            "Connecting to www.lirmm.fr (www.lirmm.fr)|193.49.104.251|:443... connected.\n",
            "HTTP request sent, awaiting response... 200 OK\n",
            "Length: 1722768 (1.6M) [text/plain]\n",
            "Saving to: ‘modelCNNFashionMnist.h5.2’\n",
            "\n",
            "modelCNNFashionMnis 100%[===================>]   1.64M  2.78MB/s    in 0.6s    \n",
            "\n",
            "2022-09-29 20:42:33 (2.78 MB/s) - ‘modelCNNFashionMnist.h5.2’ saved [1722768/1722768]\n",
            "\n"
          ]
        }
      ]
    },
    {
      "cell_type": "markdown",
      "source": [
        "Il suffit de charger le modèle :      "
      ],
      "metadata": {
        "id": "t82GKzcd8BPy"
      }
    },
    {
      "cell_type": "code",
      "source": [
        "model = load_model('AutoencodeurFashionMNIST.h5')"
      ],
      "metadata": {
        "id": "MsmYjJi18Bu1"
      },
      "execution_count": 20,
      "outputs": []
    },
    {
      "cell_type": "markdown",
      "source": [
        "Il est donc tout à fait possible de voir la sortie de l'autoencoder en utilisant comme classiquement la méthode *predict* :     "
      ],
      "metadata": {
        "id": "mVhchGOKd__T"
      }
    },
    {
      "cell_type": "code",
      "source": [
        "pred = model.predict(X_test)\n",
        "fig = plt.figure(figsize=(20,4))\n",
        "fig.suptitle(\"Images Entrée\" , fontsize=20)\n",
        "for i in range(5):\n",
        "    # Display original\n",
        "    plt.subplot(2, 5, i + 1)\n",
        "    plt.imshow(X_test[i].reshape(28, 28))\n",
        "    plt.gray()\n",
        "plt.show()\n",
        "\n",
        "fig = plt.figure(figsize=(20,4))\n",
        "fig.suptitle(\"Images Sortie\" , fontsize=20)\n",
        "for i in range(5):\n",
        "    plt.subplot(2, 5, i + 1)\n",
        "    plt.imshow(pred[i].reshape(28, 28))\n",
        "    plt.gray()\n",
        "plt.show()\n"
      ],
      "metadata": {
        "colab": {
          "base_uri": "https://localhost:8080/",
          "height": 329
        },
        "id": "PS9tn2QLeAe-",
        "outputId": "30e1b504-14c5-4718-8b5d-574938e66215"
      },
      "execution_count": 21,
      "outputs": [
        {
          "output_type": "display_data",
          "data": {
            "text/plain": [
              "<Figure size 1440x288 with 5 Axes>"
            ],
            "image/png": "[encoded data removed]"
          },
          "metadata": {
            "needs_background": "light"
          }
        },
        {
          "output_type": "display_data",
          "data": {
            "text/plain": [
              "<Figure size 1440x288 with 5 Axes>"
            ],
            "image/png": "[encoded data removed]"
          },
          "metadata": {
            "needs_background": "light"
          }
        }
      ]
    },
    {
      "cell_type": "markdown",
      "source": [
        "###Utiliser un autoencodeur pour enlever le bruit d'une image une image ou pour transformer une image en noir en blanc en couleur"
      ],
      "metadata": {
        "id": "TleEYJU7JpBo"
      }
    },
    {
      "cell_type": "markdown",
      "source": [
        "Dans cette partie nous montrons comment un autoencodeur peut être utilisé pour enlever du bruit sur une image. C'est ce principe qui est utilisé pour, par exemple, colorer des images, mettre un style particulier sur une image, etc.     \n",
        "\n",
        "Dans un premier temps nous mettons du bruit dans les images. "
      ],
      "metadata": {
        "id": "TvOdgJZueH2s"
      }
    },
    {
      "cell_type": "code",
      "source": [
        "noise_factor = 0.7\n",
        "X_train_noisy = X_train + noise_factor * np.random.normal(loc=0.0, scale=1.0, size=X_train.shape) \n",
        "X_test_noisy = X_test + noise_factor * np.random.normal(loc=0.0, scale=1.0, size=X_test.shape) \n",
        "X_train_noisy = np.clip(X_train_noisy, 0., 1.)\n",
        "X_test_noisy = np.clip(X_test_noisy, 0., 1.)\n",
        "# Voici à quoi ressemble les images avec du bruit.\n",
        "plt.figure(figsize=(20, 2))\n",
        "for i in range(1, 5 + 1):\n",
        "    ax = plt.subplot(1, 5, i)\n",
        "    plt.imshow(X_test_noisy[i].reshape(28, 28))\n",
        "    plt.gray()\n",
        "    ax.get_xaxis().set_visible(False)\n",
        "    ax.get_yaxis().set_visible(False)\n",
        "plt.show()"
      ],
      "metadata": {
        "colab": {
          "base_uri": "https://localhost:8080/",
          "height": 141
        },
        "id": "lcMU-8DweIeZ",
        "outputId": "ac9a3c9d-5b41-48fa-e3e2-f7ce711c26cb"
      },
      "execution_count": 22,
      "outputs": [
        {
          "output_type": "display_data",
          "data": {
            "text/plain": [
              "<Figure size 1440x144 with 5 Axes>"
            ],
            "image/png": "[encoded data removed]"
          },
          "metadata": {
            "needs_background": "light"
          }
        }
      ]
    },
    {
      "cell_type": "markdown",
      "source": [
        "Nous pouvons utiliser le même modèle que précédemment :      "
      ],
      "metadata": {
        "id": "vI-pg8YHegkN"
      }
    },
    {
      "cell_type": "code",
      "source": [
        "model = Sequential()\n",
        "# Partie encodeur\n",
        "model.add(Conv2D(35, 3, activation= 'relu', padding='same', input_shape = (28,28,1)))\n",
        "model.add(MaxPooling2D(2, padding= 'same'))\n",
        "model.add(Conv2D(25, 3, activation= 'relu', padding='same'))\n",
        "model.add(MaxPooling2D(2, padding= 'same'))\n",
        "# Partie décodeur\n",
        "model.add(Conv2D(25, 3, activation= 'relu', padding='same'))\n",
        "model.add(UpSampling2D(2))\n",
        "model.add(Conv2D(35, 3, activation= 'relu', padding='same'))\n",
        "model.add(UpSampling2D(2))\n",
        "model.add(Conv2D(1,3,activation='sigmoid', padding= 'same')) \n",
        "model.compile(optimizer= 'adam', loss = 'binary_crossentropy')\n"
      ],
      "metadata": {
        "id": "sRAiJyqLeg-w"
      },
      "execution_count": 23,
      "outputs": []
    },
    {
      "cell_type": "markdown",
      "source": [
        "Pour apprendre le modèle il suffit simplement de passer des images bruitées en entrée et des images nettes en sortie (i.e., à la place du y_train). "
      ],
      "metadata": {
        "id": "tgFJ78JOntt0"
      }
    },
    {
      "cell_type": "markdown",
      "source": [
        "**CO2 !!! Remarque IMPORTANTE** Pour gagner du temps, éviter de relancer l'apprentissage et du CO2 un modèle appris est disponible. Nous l'utilisons juste après. Si vous voulez le lancer il faut enlever les commentaires dans la cellule ci-dessous."
      ],
      "metadata": {
        "id": "7byeSDoN8wEQ"
      }
    },
    {
      "cell_type": "code",
      "source": [
        "#model.fit(X_train_noisy, X_train,\n",
        "#                epochs=15,\n",
        "#                batch_size=128,\n",
        "#                validation_data=(X_test_noisy, X_test))"
      ],
      "metadata": {
        "id": "Zi8wKkb8nuZ-"
      },
      "execution_count": 24,
      "outputs": []
    },
    {
      "cell_type": "markdown",
      "source": [
        "Télécharger le modèle déjà appris"
      ],
      "metadata": {
        "id": "2fHjKdj48-Sw"
      }
    },
    {
      "cell_type": "code",
      "source": [
        "!wget https://www.lirmm.fr/~poncelet/Ressources/AutoencodeurNoise.h5"
      ],
      "metadata": {
        "colab": {
          "base_uri": "https://localhost:8080/",
          "height": 0
        },
        "id": "IllpxNYm-fuf",
        "outputId": "bfe2395b-009c-4a73-8f97-4fd0cc68e3c7"
      },
      "execution_count": 25,
      "outputs": [
        {
          "output_type": "stream",
          "name": "stdout",
          "text": [
            "--2022-09-29 20:42:47--  https://www.lirmm.fr/~poncelet/Ressources/AutoencodeurNoise.h5\n",
            "Resolving www.lirmm.fr (www.lirmm.fr)... 193.49.104.251\n",
            "Connecting to www.lirmm.fr (www.lirmm.fr)|193.49.104.251|:443... connected.\n",
            "HTTP request sent, awaiting response... 200 OK\n",
            "Length: 322532 (315K) [text/plain]\n",
            "Saving to: ‘AutoencodeurNoise.h5.1’\n",
            "\n",
            "AutoencodeurNoise.h 100%[===================>] 314.97K   641KB/s    in 0.5s    \n",
            "\n",
            "2022-09-29 20:42:48 (641 KB/s) - ‘AutoencodeurNoise.h5.1’ saved [322532/322532]\n",
            "\n"
          ]
        }
      ]
    },
    {
      "cell_type": "markdown",
      "source": [
        "Il suffit de charger le modèle :           "
      ],
      "metadata": {
        "id": "kL3OG-31-tvU"
      }
    },
    {
      "cell_type": "code",
      "source": [
        "model = load_model('AutoencodeurNoise.h5')"
      ],
      "metadata": {
        "id": "P7JFjwLm-uYn"
      },
      "execution_count": 26,
      "outputs": []
    },
    {
      "cell_type": "markdown",
      "source": [
        "Pour voir comment le bruit est enlevé d'une image, il suffit de passer une image bruitée et le modèle va enlever le bruit. "
      ],
      "metadata": {
        "id": "JM3EkH1Resq9"
      }
    },
    {
      "cell_type": "code",
      "source": [
        "pred = model.predict(X_test_noisy)\n",
        "\n",
        "fig = plt.figure(figsize=(20,4))\n",
        "fig.suptitle(\"Images bruitées\" , fontsize=20)\n",
        "for i in range(5):\n",
        "    # Display original\n",
        "    plt.subplot(2, 5, i + 1)\n",
        "    plt.imshow(X_test_noisy[i].reshape(28, 28))\n",
        "    plt.gray()\n",
        "plt.show()\n",
        "\n",
        "fig = plt.figure(figsize=(20,4))\n",
        "fig.suptitle(\"Images Sortie\" , fontsize=20)\n",
        "for i in range(5):\n",
        "    plt.subplot(2, 5, i + 1)\n",
        "    plt.imshow(pred[i].reshape(28, 28))\n",
        "    plt.gray()\n",
        "plt.show()\n",
        "\n",
        "\n"
      ],
      "metadata": {
        "colab": {
          "base_uri": "https://localhost:8080/",
          "height": 329
        },
        "id": "e6WHGU-WetIN",
        "outputId": "fe8b9958-8140-4557-b286-45042a3c0543"
      },
      "execution_count": 27,
      "outputs": [
        {
          "output_type": "display_data",
          "data": {
            "text/plain": [
              "<Figure size 1440x288 with 5 Axes>"
            ],
            "image/png": "[encoded data removed]"
          },
          "metadata": {
            "needs_background": "light"
          }
        },
        {
          "output_type": "display_data",
          "data": {
            "text/plain": [
              "<Figure size 1440x288 with 5 Axes>"
            ],
            "image/png": "[encoded data removed]"
          },
          "metadata": {
            "needs_background": "light"
          }
        }
      ]
    },
    {
      "cell_type": "markdown",
      "source": [
        "**Et pour colorier des images en noir et blanc** ... rien de plus simple : il faut un jeu de données d'images en noir et blanc et en couleur. Dans le fit il suffira de passer fit(train_noir_et_blanc, train_couleur .... ) et vous obtenez un autoencodeur capable de transformer automatiquement des images en noir en blanc en images couleurs.   \n",
        "\n",
        "**Et pour traduire du texte ?** : seq2seq est un autoencodeur optimisé (utilisation de LSTM, attention) mais le principe est le même : fit(langue_origine, langue_destination, ....)\n",
        "\n",
        "**Et pour générer des images ou du texte ?** : les autoencoders ne sont pas adaptés. Leur objectif est de \"comprimer les données. Cela veut dire qu'au niveau du Latent Space nous avons peu d'information sur la distribution des données. Il faut passer par des **variational auto encodeurs** qui avant de créer le latent space vont aussi prendre en compte la manière dont les données sont distribuées."
      ],
      "metadata": {
        "id": "9CIfaHojRuSg"
      }
    }
  ]
}